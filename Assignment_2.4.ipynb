{
 "cells": [
  {
   "cell_type": "code",
   "execution_count": 10,
   "metadata": {},
   "outputs": [
    {
     "name": "stdout",
     "output_type": "stream",
     "text": [
      "The given string is :\n",
      "WE, THE PEOPLE OF INDIA, having solemnly resolved to constitute India into a SOVEREIGN, SOCIALIST, SECULAR, DEMOCRATIC REPUBLIC and to secure to all its citizens:\n",
      "\n",
      "Printing The given string in the specified format :\n",
      "WE,THE PEOPLE OF INDIA,\n",
      "\thaving solemnly resolved to constitute India into a SOVEREIGN, !\n",
      "\t\tSOCIALIST, SECULAR, DEMOCRATIC REPUBLIC\n",
      "\t\t and to secure to all its citizens:\n"
     ]
    }
   ],
   "source": [
    "# Program to print the given string in the format specified in the sample output\n",
    "inputWords1 = \"WE, THE PEOPLE OF INDIA, having solemnly resolved to constitute India into a \"\n",
    "inputWords2 = \"SOVEREIGN, SOCIALIST, SECULAR, DEMOCRATIC REPUBLIC and to secure to all its citizens:\"\n",
    "\n",
    "print(\"The given string is :\")\n",
    "print(inputWords1 + inputWords2)\n",
    "print(\"\")\n",
    "print(\"Printing The given string in the specified format :\")\n",
    "print(\"WE,THE PEOPLE OF INDIA,\")\n",
    "print(\"\\thaving solemnly resolved to constitute India into a SOVEREIGN, !\")\n",
    "print(\"\\t\\tSOCIALIST, SECULAR, DEMOCRATIC REPUBLIC\")\n",
    "print(\"\\t\\t and to secure to all its citizens:\")"
   ]
  },
  {
   "cell_type": "code",
   "execution_count": null,
   "metadata": {},
   "outputs": [],
   "source": []
  }
 ],
 "metadata": {
  "kernelspec": {
   "display_name": "Python 3",
   "language": "python",
   "name": "python3"
  },
  "language_info": {
   "codemirror_mode": {
    "name": "ipython",
    "version": 3
   },
   "file_extension": ".py",
   "mimetype": "text/x-python",
   "name": "python",
   "nbconvert_exporter": "python",
   "pygments_lexer": "ipython3",
   "version": "3.6.4"
  }
 },
 "nbformat": 4,
 "nbformat_minor": 2
}
